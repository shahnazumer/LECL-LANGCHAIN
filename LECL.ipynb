{
 "cells": [
  {
   "cell_type": "markdown",
   "metadata": {},
   "source": [
    "##### To understand LCEL syntax let's first build a simple chain in typical Python syntax.\n"
   ]
  },
  {
   "cell_type": "code",
   "execution_count": 2,
   "metadata": {},
   "outputs": [],
   "source": [
    "import os\n",
    "from langchain.chat_models import ChatOpenAI\n",
    "from langchain.prompts import ChatPromptTemplate\n",
    "from langchain.schema.output_parser import StrOutputParser"
   ]
  },
  {
   "cell_type": "code",
   "execution_count": 1,
   "metadata": {},
   "outputs": [],
   "source": [
    "# openai api key\n",
    "\n",
    "OPENAI_API_KEY = \"\"\n"
   ]
  },
  {
   "cell_type": "code",
   "execution_count": 5,
   "metadata": {},
   "outputs": [],
   "source": [
    "prompt = ChatPromptTemplate.from_template(\"Give me small report about {topic}\")\n",
    "model = ChatOpenAI(model=\"gpt-3.5-turbo\")\n",
    "output_parser = StrOutputParser()"
   ]
  },
  {
   "cell_type": "code",
   "execution_count": 6,
   "metadata": {},
   "outputs": [
    {
     "name": "stdout",
     "output_type": "stream",
     "text": [
      "Artificial Intelligence (AI) refers to the development of computer systems that can perform tasks that typically require human intelligence. It involves creating algorithms and models that enable computers to learn, reason, and solve problems in a manner similar to humans.\n",
      "\n",
      "AI has gained significant attention and popularity in recent years due to advancements in machine learning, deep learning, and natural language processing. These technologies have allowed computers to process and analyze vast amounts of data, recognize patterns, and make predictions or decisions based on the information provided.\n",
      "\n",
      "One of the key applications of AI is in autonomous systems, such as self-driving cars and drones. These systems use AI algorithms to perceive their environment, make decisions, and navigate safely without human intervention. This technology has the potential to revolutionize transportation and improve road safety.\n",
      "\n",
      "AI is also being used extensively in various industries, including healthcare, finance, and manufacturing. In healthcare, AI algorithms can analyze medical images and data to assist in diagnosis and treatment decisions. In finance, AI-powered algorithms can predict market trends and optimize investment strategies. In manufacturing, AI-enabled robots can perform complex tasks and improve efficiency on the production line.\n",
      "\n",
      "However, AI also presents challenges and concerns. Ethical considerations, such as privacy, bias, and job displacement, need to be addressed. Ensuring transparency, fairness, and accountability in AI systems is crucial to avoid potential harm and discrimination.\n",
      "\n",
      "Despite these challenges, the potential benefits of AI are immense. It has the ability to enhance productivity, improve decision-making processes, and augment human capabilities. As AI continues to evolve and become more sophisticated, it is expected to play a significant role in shaping the future of various industries and society as a whole.\n"
     ]
    }
   ],
   "source": [
    "from langchain.chains import LLMChain\n",
    "\n",
    "chain = LLMChain(\n",
    "    prompt=prompt,\n",
    "    llm=model,\n",
    "    output_parser=output_parser\n",
    ")\n",
    "\n",
    "# and run\n",
    "out = chain.run(topic=\"Artificial Intelligence\")\n",
    "print(out)"
   ]
  },
  {
   "cell_type": "markdown",
   "metadata": {},
   "source": [
    "Using LCEL the format is different, rather than relying on Chains we simple chain together each component using the pipe operator |:"
   ]
  },
  {
   "cell_type": "code",
   "execution_count": 7,
   "metadata": {},
   "outputs": [
    {
     "name": "stdout",
     "output_type": "stream",
     "text": [
      "Title: Artificial Intelligence: Revolutionizing the Future\n",
      "\n",
      "Introduction:\n",
      "Artificial Intelligence (AI) is a field of computer science that focuses on creating intelligent machines capable of performing tasks that typically require human intelligence. Over the years, AI has made significant progress, leading to numerous advancements across various sectors. This report explores the current state of AI, its applications, benefits, and potential challenges.\n",
      "\n",
      "Applications of AI:\n",
      "AI has found its application in a wide range of industries, including healthcare, finance, transportation, and entertainment. In healthcare, AI-powered systems assist in diagnosing diseases, suggesting treatment plans, and even performing surgeries with increased precision. In finance, AI algorithms analyze vast amounts of data to detect fraud, manage investments, and provide personalized financial advice. AI is also revolutionizing transportation through self-driving cars, improving safety and efficiency on the roads. Additionally, AI is utilized in the entertainment industry to enhance gaming experiences, recommend personalized content, and create realistic virtual worlds.\n",
      "\n",
      "Benefits of AI:\n",
      "The adoption of AI brings numerous benefits to society. One of the significant advantages is increased efficiency and productivity. AI-powered systems can perform repetitive tasks at a much faster rate than humans, leading to improved productivity and cost savings. Additionally, AI algorithms can analyze vast amounts of data, providing valuable insights and facilitating data-driven decision-making processes. AI can also be utilized to automate dangerous or monotonous tasks, reducing the risk to human workers. Moreover, AI has the potential to improve the quality of life by assisting individuals with disabilities, providing personalized healthcare, and enhancing overall convenience.\n",
      "\n",
      "Challenges and Considerations:\n",
      "Despite its many benefits, AI poses certain challenges and considerations. One concern is the ethical implications surrounding AI, such as issues related to privacy, bias, and job displacement. The collection and use of massive amounts of data by AI algorithms raise concerns about privacy and data security. Bias in AI algorithms can result in discriminatory outcomes, further exacerbating existing societal inequalities. Additionally, the automation of tasks through AI could potentially lead to job displacement, requiring an emphasis on reskilling and upskilling the workforce to adapt to AI-driven environments.\n",
      "\n",
      "Conclusion:\n",
      "Artificial Intelligence has rapidly progressed in recent years, transforming various industries and offering numerous benefits. From healthcare to finance and transportation, AI has the potential to revolutionize the way we live and work. However, it is crucial to address the ethical and societal challenges associated with AI to ensure responsible and equitable implementation. With continued advancements, AI holds immense potential to shape the future and enable us to unlock new possibilities.\n"
     ]
    }
   ],
   "source": [
    "lcel_chain = prompt | model | output_parser\n",
    "\n",
    "# and run\n",
    "out = lcel_chain.invoke({\"topic\": \"Artificial Intelligence\"})\n",
    "print(out)"
   ]
  },
  {
   "cell_type": "code",
   "execution_count": 3,
   "metadata": {},
   "outputs": [
    {
     "data": {
      "text/plain": [
       "'Artificial Intelligence (AI) refers to the simulation of human intelligence in machines that are programmed to think and learn like humans. It involves the development of computer systems capable of performing tasks that would typically require human intelligence, such as speech recognition, decision-making, problem-solving, and visual perception.\\n\\nAI has experienced significant advancements in recent years, driven by advancements in computing power, data availability, and algorithm development. Machine Learning, a subset of AI, plays a crucial role in training machines to learn from data and improve their performance over time without being explicitly programmed. This enables AI systems to continuously adapt and improve their accuracy and efficiency.\\n\\nAI is being applied across various fields and industries. In healthcare, AI is being used to analyze medical records, assist in diagnoses, and develop personalized treatment plans. In finance, AI algorithms are employed for fraud detection, trading, and risk assessment. AI is also revolutionizing transportation through the development of self-driving cars, optimizing traffic flow, and improving navigation systems.\\n\\nHowever, the rise of AI also raises concerns and challenges. Ethical considerations, such as privacy, bias, and job displacement, need to be addressed. Ensuring AI systems are transparent, fair, and accountable is crucial to building trust and acceptance.\\n\\nIn conclusion, AI is a rapidly evolving field that has the potential to transform various aspects of our lives. Its applications are wide-ranging and have the capacity to improve efficiency, accuracy, and decision-making. As AI continues to advance, it is important to strike a balance between harnessing its potential benefits while addressing the associated ethical and societal challenges.'"
      ]
     },
     "execution_count": 3,
     "metadata": {},
     "output_type": "execute_result"
    }
   ],
   "source": [
    "# invoke \n",
    "\n",
    "from langchain_core.runnables import RunnablePassthrough\n",
    "\n",
    "\n",
    "prompt = ChatPromptTemplate.from_template(\n",
    "    \"Give me small report about {topic}\"\n",
    ")\n",
    "output_parser = StrOutputParser()\n",
    "model = ChatOpenAI(model=\"gpt-3.5-turbo\")\n",
    "chain = (\n",
    "    {\"topic\": RunnablePassthrough()} \n",
    "    | prompt\n",
    "    | model\n",
    "    | output_parser\n",
    ")\n",
    "\n",
    "chain.invoke(\"Artificial Intelligence\")"
   ]
  },
  {
   "cell_type": "code",
   "execution_count": 4,
   "metadata": {},
   "outputs": [
    {
     "name": "stdout",
     "output_type": "stream",
     "text": [
      "Title: Artificial Intelligence: Revolutionizing the Future\n",
      "\n",
      "Introduction:\n",
      "Artificial Intelligence (AI) is a rapidly evolving field that deals with the development of machines and systems capable of performing tasks that typically require human intelligence. It encompasses various disciplines such as machine learning, natural language processing, computer vision, and robotics. Over the years, AI has gained significant momentum, transforming multiple industries and shaping the future of technology.\n",
      "\n",
      "Development and Applications:\n",
      "The development of AI can be traced back to the 1950s when computer scientists began exploring the concept of simulating human intelligence. Since then, AI has made remarkable progress, with advancements in algorithms, computing power, and data availability. AI is now being utilized in various domains, including healthcare, finance, education, manufacturing, and transportation.\n",
      "\n",
      "AI has revolutionized healthcare by assisting in medical diagnoses, drug discovery, and personalized treatment plans. It allows for the analysis of vast amounts of patient data, enabling faster and accurate diagnoses. In finance, AI algorithms can predict market trends, optimize investment strategies, and detect fraudulent activities. Educational institutions are employing AI-powered tools to personalize learning experiences, offer intelligent tutoring systems, and automate administrative tasks.\n",
      "\n",
      "Furthermore, AI has transformed manufacturing processes, leading to increased efficiency, reduced costs, and improved quality control. Autonomous vehicles, a prime example of AI implementation, are advancing the transportation industry, with the potential to enhance road safety and reduce traffic congestion.\n",
      "\n",
      "Ethical Concerns:\n",
      "While AI brings numerous benefits, it also raises important ethical concerns. One of the major concerns is the potential impact on jobs, as automation could replace human workers in certain industries. This calls for the need to reskill and upskill the workforce to adapt to the changing demands of the job market.\n",
      "\n",
      "Another concern is the bias and fairness of AI systems. Algorithms are only as good as the data they are trained on, and if the data contains biases, it can lead to discriminatory outcomes. Ensuring fairness and transparency in AI algorithms is crucial to prevent reinforcing existing social inequalities.\n",
      "\n",
      "Future Prospects:\n",
      "The future of AI holds immense potential. Advancements such as deep learning, neural networks, and reinforcement learning are contributing to the development of more sophisticated systems. AI will continue to improve automation, enhance decision-making capabilities, and enable more natural interactions between humans and machines.\n",
      "\n",
      "Conclusion:\n",
      "Artificial Intelligence has emerged as a transformative technology, reshaping industries and influencing various aspects of our lives. With ongoing research and development, AI is poised to revolutionize the way we work, learn, and interact. However, it is essential to address ethical concerns and ensure responsible AI development to maximize its benefits and minimize potential risks."
     ]
    }
   ],
   "source": [
    "# Stream\n",
    "\n",
    "for chunk in chain.stream(\"Artificial Intelligence\"):\n",
    "    print(chunk, end=\"\", flush=True)"
   ]
  },
  {
   "cell_type": "code",
   "execution_count": 5,
   "metadata": {},
   "outputs": [
    {
     "data": {
      "text/plain": [
       "['Artificial Intelligence (AI) is a rapidly advancing field of computer science that focuses on creating machines or systems that can perform tasks requiring human intelligence. AI aims to develop intelligent machines that can learn, reason, and make decisions similar to humans.\\n\\nOne of the key areas of AI research is machine learning, which involves training machines to learn from data or experiences and improve their performance over time. Machine learning algorithms allow computers to analyze large amounts of data and identify patterns, making predictions or decisions based on the analyzed information.\\n\\nAI is being applied in various domains, including healthcare, finance, transportation, and entertainment. In healthcare, AI is used for diagnosing diseases, analyzing medical images, and developing personalized treatment plans. In finance, AI is utilized for fraud detection, algorithmic trading, and risk assessment. In transportation, AI is employed in autonomous vehicles to navigate and make real-time decisions. AI also plays a significant role in the entertainment industry, with recommendation systems suggesting personalized content to users.\\n\\nWhile AI offers immense potential, there are also concerns about its ethical implications and potential risks. Job displacement is one such concern, as AI systems could automate tasks traditionally performed by humans, leading to unemployment. Additionally, the misuse of AI-powered technologies, such as facial recognition systems, raises concerns about privacy and surveillance.\\n\\nTo address these concerns, there is a growing focus on developing ethical guidelines and regulations for AI. Researchers and policymakers are working towards ensuring transparency, fairness, and accountability in AI systems. Additionally, efforts are being made to promote the responsible use of AI and to mitigate biases that may be present in the data used to train AI models.\\n\\nIn conclusion, AI is a transformative technology with the potential to revolutionize various industries. While it offers numerous benefits, it is crucial to approach its development and deployment with caution, ensuring that it aligns with ethical standards and addresses potential risks.',\n",
       " 'Machine learning is a subset of artificial intelligence that involves the development of algorithms and models which enable computers to learn and make predictions or decisions without being explicitly programmed. It is based on the idea that machines can learn from and adapt to data, allowing them to improve their performance over time.\\n\\nIn machine learning, algorithms are trained on large datasets, which are used to identify patterns and relationships within the data. These algorithms can then apply the acquired knowledge to make predictions or take actions when presented with new, unseen data.\\n\\nOne of the key concepts in machine learning is the use of statistical techniques to analyze and interpret data. This involves feature extraction, where relevant attributes or characteristics are identified and selected from the input data. These features are used to train models, which can then be used to make predictions or decisions.\\n\\nMachine learning can be classified into several categories, including supervised learning, unsupervised learning, and reinforcement learning. In supervised learning, the algorithm is trained on labeled data, where each input is associated with a corresponding output. The algorithm learns to map inputs to outputs based on these labeled examples. In unsupervised learning, the algorithm is trained on unlabeled data, and it learns to find patterns or structures within the data without any predefined outputs. Reinforcement learning involves an agent learning to interact with an environment and receiving rewards or punishments based on its actions, allowing it to learn through trial and error.\\n\\nMachine learning has a wide range of applications across various industries. It is used in healthcare for disease diagnosis and prediction, in finance for fraud detection and risk assessment, in marketing for customer segmentation and recommendation systems, in autonomous vehicles for object recognition and decision-making, and in many other areas.\\n\\nWhile machine learning has shown great promise in solving complex problems and making accurate predictions, it also faces challenges. These include the need for large amounts of high-quality data, the potential for biased or unfair models, the interpretability of complex models, and the ethical implications of automated decision-making.\\n\\nIn conclusion, machine learning is a powerful tool that enables computers to learn and make predictions or decisions based on data. It has a wide range of applications and holds great potential for solving complex problems and improving decision-making processes in various domains.',\n",
       " 'Data science is a multidisciplinary field that combines various techniques and methods to extract insights and knowledge from data. It involves analyzing large and complex datasets to uncover meaningful patterns, trends, and correlations that can be used to make informed decisions and predictions.\\n\\nThe field of data science incorporates elements of statistics, mathematics, computer science, and domain knowledge to tackle real-world problems. It encompasses various stages, including data collection, cleaning, exploration, analysis, modeling, and interpretation.\\n\\nData scientists utilize a wide range of tools and technologies to work with data, including programming languages like Python and R, statistical software, machine learning algorithms, and data visualization tools. They apply statistical and mathematical techniques to identify patterns, build predictive models, and make data-driven decisions.\\n\\nData science has numerous applications across various industries and fields. For example, in finance, data science can be used to detect fraud, predict market trends, and optimize investment strategies. In healthcare, it can aid in disease diagnosis, drug discovery, and personalized medicine. In marketing, data science helps in customer segmentation, targeted advertising, and campaign optimization.\\n\\nThe demand for data scientists has been steadily increasing as organizations recognize the value of data-driven decision-making. Data scientists play a crucial role in extracting meaningful insights from data, improving business performance, and driving innovation. They possess strong analytical skills, problem-solving abilities, and domain expertise, allowing them to derive actionable insights from complex datasets.\\n\\nIn conclusion, data science is a rapidly growing field that blends statistics, mathematics, computer science, and domain knowledge to analyze data and derive valuable insights. It has a wide range of applications and is essential for making data-driven decisions in various industries. The demand for skilled data scientists continues to rise as organizations seek to leverage the power of data for competitive advantage.']"
      ]
     },
     "execution_count": 5,
     "metadata": {},
     "output_type": "execute_result"
    }
   ],
   "source": [
    "# Batch\n",
    "\n",
    "chain.batch([\"Artificial Intelligence\", \"Machine Learning\", \"Data Science\"])"
   ]
  },
  {
   "cell_type": "code",
   "execution_count": 6,
   "metadata": {},
   "outputs": [
    {
     "data": {
      "text/plain": [
       "<coroutine object RunnableSequence.ainvoke at 0x000001514F8AD240>"
      ]
     },
     "execution_count": 6,
     "metadata": {},
     "output_type": "execute_result"
    }
   ],
   "source": [
    "# Async\n",
    "\n",
    "chain.ainvoke(\"Artificial Intelligence\")"
   ]
  },
  {
   "cell_type": "code",
   "execution_count": 7,
   "metadata": {},
   "outputs": [
    {
     "data": {
      "text/plain": [
       "'\\n\\nArtificial Intelligence (AI) is a rapidly growing field of computer science that focuses on creating intelligent machines that can perform tasks that typically require human intelligence. These tasks include problem-solving, decision-making, and learning. AI is a broad term that encompasses a variety of subfields, such as machine learning, natural language processing, and robotics, all with the goal of creating intelligent systems that can simulate human thought processes.\\n\\nOne of the key components of AI is machine learning, which involves training computers to learn from data and improve their performance over time without being explicitly programmed. This allows machines to make decisions and predictions based on patterns and trends in the data they have been trained on.\\n\\nNatural language processing (NLP) is another important aspect of AI that focuses on teaching machines to understand and interpret human language. This enables machines to communicate with humans in a more natural way, through speech or text.\\n\\nAI has numerous applications in various industries, including healthcare, finance, transportation, and entertainment. In healthcare, AI can help with medical diagnosis and drug development, while in finance, it can be used to detect fraud and make financial predictions. In transportation, AI is being used to develop self-driving cars, and in entertainment, it is used to create realistic and interactive virtual worlds.\\n\\nHowever, AI'"
      ]
     },
     "execution_count": 7,
     "metadata": {},
     "output_type": "execute_result"
    }
   ],
   "source": [
    "# LLM instead of chat model\n",
    "\n",
    "from langchain_community.llms import OpenAI\n",
    "\n",
    "llm = OpenAI(model=\"gpt-3.5-turbo-instruct\")\n",
    "llm_chain = (\n",
    "    {\"topic\": RunnablePassthrough()} \n",
    "    | prompt\n",
    "    | llm\n",
    "    | output_parser\n",
    ")\n",
    "\n",
    "llm_chain.invoke(\"Artificial Intelligence\")"
   ]
  },
  {
   "cell_type": "markdown",
   "metadata": {},
   "source": []
  },
  {
   "cell_type": "code",
   "execution_count": null,
   "metadata": {},
   "outputs": [],
   "source": []
  },
  {
   "cell_type": "markdown",
   "metadata": {},
   "source": []
  },
  {
   "cell_type": "markdown",
   "metadata": {},
   "source": []
  },
  {
   "cell_type": "code",
   "execution_count": null,
   "metadata": {},
   "outputs": [],
   "source": []
  }
 ],
 "metadata": {
  "kernelspec": {
   "display_name": "Python 3",
   "language": "python",
   "name": "python3"
  },
  "language_info": {
   "codemirror_mode": {
    "name": "ipython",
    "version": 3
   },
   "file_extension": ".py",
   "mimetype": "text/x-python",
   "name": "python",
   "nbconvert_exporter": "python",
   "pygments_lexer": "ipython3",
   "version": "3.9.0"
  }
 },
 "nbformat": 4,
 "nbformat_minor": 2
}
