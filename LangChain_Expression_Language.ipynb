{
  "nbformat": 4,
  "nbformat_minor": 0,
  "metadata": {
    "colab": {
      "provenance": [],
      "include_colab_link": true
    },
    "kernelspec": {
      "name": "python3",
      "display_name": "Python 3"
    },
    "language_info": {
      "name": "python"
    }
  },
  "cells": [
    {
      "cell_type": "markdown",
      "metadata": {
        "id": "view-in-github",
        "colab_type": "text"
      },
      "source": [
        "<a href=\"https://colab.research.google.com/github/shahnazumer/LECL-LANGCHAIN/blob/main/LangChain_Expression_Language.ipynb\" target=\"_parent\"><img src=\"https://colab.research.google.com/assets/colab-badge.svg\" alt=\"Open In Colab\"/></a>"
      ]
    },
    {
      "cell_type": "code",
      "execution_count": null,
      "metadata": {
        "id": "RRYSu48huSUW"
      },
      "outputs": [],
      "source": [
        "!pip -q install langchain openai tiktoken\n",
        "!pip -q install chromadb"
      ]
    },
    {
      "cell_type": "code",
      "source": [
        "import os\n",
        "\n",
        "os.environ[\"OPENAI_API_KEY\"] = \"\""
      ],
      "metadata": {
        "id": "dNA4TsHpu6OM"
      },
      "execution_count": 2,
      "outputs": []
    },
    {
      "cell_type": "code",
      "source": [
        "!pip show langchain"
      ],
      "metadata": {
        "id": "J-KFB7J_u_3L"
      },
      "execution_count": null,
      "outputs": []
    },
    {
      "cell_type": "markdown",
      "source": [
        "# LangChain Expression Language\n"
      ],
      "metadata": {
        "id": "HqwsGJDhvAQ5"
      }
    },
    {
      "cell_type": "code",
      "source": [
        "from langchain.prompts import ChatPromptTemplate\n",
        "from langchain.chat_models import ChatOpenAI\n",
        "from langchain.llms import OpenAI\n",
        "\n",
        "from langchain.schema.output_parser import StrOutputParser"
      ],
      "metadata": {
        "id": "IfCt8bhHNu9u"
      },
      "execution_count": 4,
      "outputs": []
    },
    {
      "cell_type": "code",
      "source": [
        "model = ChatOpenAI(\n",
        "    model=\"gpt-3.5-turbo\",\n",
        "    temperature=0\n",
        "    )\n"
      ],
      "metadata": {
        "id": "P_Vz09usvqhb"
      },
      "execution_count": 5,
      "outputs": []
    },
    {
      "cell_type": "code",
      "source": [
        "prompt = ChatPromptTemplate.from_template(\n",
        "    \"tell me an intersting fact about {subject}\"\n",
        "    )"
      ],
      "metadata": {
        "id": "Z6HVNGkvv9-G"
      },
      "execution_count": 76,
      "outputs": []
    },
    {
      "cell_type": "code",
      "source": [
        "chain = prompt | model"
      ],
      "metadata": {
        "id": "Hil5bkKFwCha"
      },
      "execution_count": 77,
      "outputs": []
    },
    {
      "cell_type": "code",
      "source": [
        "chain.invoke({\"subject\": \"Elvis\"})"
      ],
      "metadata": {
        "colab": {
          "base_uri": "https://localhost:8080/"
        },
        "id": "cm8y8Ll4wJMH",
        "outputId": "45650505-191e-4a51-e147-6db8879690bc"
      },
      "execution_count": 78,
      "outputs": [
        {
          "output_type": "execute_result",
          "data": {
            "text/plain": [
              "AIMessage(content='One interesting fact about Elvis Presley is that he was a black belt in karate. He began studying martial arts in the 1950s and eventually earned his black belt in 1960. Elvis was passionate about karate and even incorporated some of the moves into his performances. He often practiced with his friends and bodyguards, and even had a custom-made karate uniform with his name embroidered on it.')"
            ]
          },
          "metadata": {},
          "execution_count": 78
        }
      ]
    },
    {
      "cell_type": "code",
      "source": [
        "chain = prompt | model | StrOutputParser()"
      ],
      "metadata": {
        "id": "UoeILxMtwS-A"
      },
      "execution_count": 79,
      "outputs": []
    },
    {
      "cell_type": "code",
      "source": [
        "chain.invoke({\"subject\": \"Elvis\"})"
      ],
      "metadata": {
        "colab": {
          "base_uri": "https://localhost:8080/",
          "height": 72
        },
        "id": "-MAwnHOTwlw1",
        "outputId": "7aed40a7-cf58-440a-b087-bdb6e7b10232"
      },
      "execution_count": 80,
      "outputs": [
        {
          "output_type": "execute_result",
          "data": {
            "text/plain": [
              "'One interesting fact about Elvis Presley is that he was a black belt in karate. He began studying martial arts in the 1950s and eventually earned his black belt in 1960. Elvis was passionate about karate and even incorporated some of the moves into his performances. He often practiced with his friends and bodyguards, and even had a custom-made karate uniform with his name embroidered on it.'"
            ],
            "application/vnd.google.colaboratory.intrinsic+json": {
              "type": "string"
            }
          },
          "metadata": {},
          "execution_count": 80
        }
      ]
    },
    {
      "cell_type": "code",
      "source": [
        "# Streaming Example\n",
        "for chunk in chain.stream({\"subject\": \"Elvis\"}):\n",
        "    print(chunk, end=\"\", flush=True)"
      ],
      "metadata": {
        "colab": {
          "base_uri": "https://localhost:8080/"
        },
        "id": "eA2YT-NHKtc3",
        "outputId": "63dea3b8-5565-47ed-a83a-1bc73b773f66"
      },
      "execution_count": 85,
      "outputs": [
        {
          "output_type": "stream",
          "name": "stdout",
          "text": [
            "One interesting fact about Elvis Presley is that he was a black belt in karate. He began studying martial arts in the 1950s and eventually earned his black belt in 1960. Elvis was passionate about karate and even incorporated some of the moves into his performances. He often practiced with his friends and bodyguards, and even had a custom-made karate uniform with his name embroidered on it."
          ]
        }
      ]
    },
    {
      "cell_type": "code",
      "source": [
        "# Batch Processing Example\n",
        "subject_batch = [\n",
        "    {\"subject\": \"Elvis\"},\n",
        "    # Add more notes here\n",
        "]\n",
        "batch_view = chain.batch(subject_batch)"
      ],
      "metadata": {
        "id": "GwvgSbcDK6S7"
      },
      "execution_count": 87,
      "outputs": []
    },
    {
      "cell_type": "markdown",
      "source": [
        "## Bindings"
      ],
      "metadata": {
        "id": "4Z8VleV0wzto"
      }
    },
    {
      "cell_type": "code",
      "source": [
        "prompt = ChatPromptTemplate.from_template(\n",
        "    \"tell me 3 intersting facts about {subject}\"\n",
        "    )"
      ],
      "metadata": {
        "id": "avT5iyzbxC6N"
      },
      "execution_count": 12,
      "outputs": []
    },
    {
      "cell_type": "code",
      "source": [
        "chain = prompt | model.bind(stop=[\"\\n\"]) | StrOutputParser()\n"
      ],
      "metadata": {
        "id": "j0cDP5Whwm31"
      },
      "execution_count": 13,
      "outputs": []
    },
    {
      "cell_type": "code",
      "source": [
        "chain.invoke({\"subject\": \"Elvis\"})"
      ],
      "metadata": {
        "colab": {
          "base_uri": "https://localhost:8080/",
          "height": 54
        },
        "id": "ynNgP_4Fw6na",
        "outputId": "633e1f01-3700-44ab-a49f-5005d0a46acf"
      },
      "execution_count": 14,
      "outputs": [
        {
          "output_type": "execute_result",
          "data": {
            "text/plain": [
              "'1. Elvis Presley, often referred to as the \"King of Rock and Roll,\" was born on January 8, 1935, in Tupelo, Mississippi. He began his music career in the mid-1950s and quickly rose to fame with his unique blend of rockabilly, country, and rhythm and blues.'"
            ],
            "application/vnd.google.colaboratory.intrinsic+json": {
              "type": "string"
            }
          },
          "metadata": {},
          "execution_count": 14
        }
      ]
    },
    {
      "cell_type": "markdown",
      "source": [
        "## Adding OpenAI Functions"
      ],
      "metadata": {
        "id": "NVV-Wa8AxVuL"
      }
    },
    {
      "cell_type": "code",
      "source": [
        "functions = [\n",
        "    {\n",
        "      \"name\": \"joke\",\n",
        "      \"description\": \"A joke\",\n",
        "      \"parameters\": {\n",
        "        \"type\": \"object\",\n",
        "        \"properties\": {\n",
        "          \"setup\": {\n",
        "            \"type\": \"string\",\n",
        "            \"description\": \"The setup for the joke\"\n",
        "          },\n",
        "          \"punchline\": {\n",
        "            \"type\": \"string\",\n",
        "            \"description\": \"The punchline for the joke\"\n",
        "          }\n",
        "        },\n",
        "        \"required\": [\"setup\", \"punchline\"]\n",
        "      }\n",
        "    }\n",
        "  ]\n",
        "functions_chain = prompt | model.bind(function_call= {\"name\": \"joke\"}, functions= functions)"
      ],
      "metadata": {
        "id": "Grw9Z1ihxKgt"
      },
      "execution_count": 15,
      "outputs": []
    },
    {
      "cell_type": "code",
      "source": [
        "functions_chain.invoke({\"subject\": \"bears\"}, config={})"
      ],
      "metadata": {
        "colab": {
          "base_uri": "https://localhost:8080/"
        },
        "id": "AL0Td6_nxJhc",
        "outputId": "54597e26-8d9b-49c5-feb3-4f9cd1dcf757"
      },
      "execution_count": 16,
      "outputs": [
        {
          "output_type": "execute_result",
          "data": {
            "text/plain": [
              "AIMessage(content='', additional_kwargs={'function_call': {'arguments': '{\\n  \"setup\": \"Why don\\'t bears wear shoes?\",\\n  \"punchline\": \"Because they have bear feet!\"\\n}', 'name': 'joke'}})"
            ]
          },
          "metadata": {},
          "execution_count": 16
        }
      ]
    },
    {
      "cell_type": "markdown",
      "source": [
        "### Functions Output Parser\n"
      ],
      "metadata": {
        "id": "x7B7bxCJyA9a"
      }
    },
    {
      "cell_type": "code",
      "source": [
        "from langchain.output_parsers.openai_functions import JsonOutputFunctionsParser\n",
        "\n",
        "functions_chain = (\n",
        "    prompt\n",
        "    | model.bind(function_call= {\"name\": \"joke\"}, functions= functions)\n",
        "    | JsonOutputFunctionsParser()\n",
        ")"
      ],
      "metadata": {
        "id": "OgSLlfvMxwms"
      },
      "execution_count": 17,
      "outputs": []
    },
    {
      "cell_type": "code",
      "source": [
        "response = functions_chain.invoke({\"subject\": \"bears\"})\n",
        "\n",
        "response"
      ],
      "metadata": {
        "colab": {
          "base_uri": "https://localhost:8080/"
        },
        "id": "DeX7OkTvyqx5",
        "outputId": "3227b7df-20a2-46c0-98d5-b46c0888b92e"
      },
      "execution_count": 18,
      "outputs": [
        {
          "output_type": "execute_result",
          "data": {
            "text/plain": [
              "{'setup': \"Why don't bears wear shoes?\",\n",
              " 'punchline': 'Because they have bear feet!'}"
            ]
          },
          "metadata": {},
          "execution_count": 18
        }
      ]
    },
    {
      "cell_type": "code",
      "source": [
        "response['punchline']"
      ],
      "metadata": {
        "colab": {
          "base_uri": "https://localhost:8080/",
          "height": 36
        },
        "id": "GyqJpMyGy0LR",
        "outputId": "7ab557ad-c84f-448b-a774-94cfad73d435"
      },
      "execution_count": 19,
      "outputs": [
        {
          "output_type": "execute_result",
          "data": {
            "text/plain": [
              "'Because they have bear feet!'"
            ],
            "application/vnd.google.colaboratory.intrinsic+json": {
              "type": "string"
            }
          },
          "metadata": {},
          "execution_count": 19
        }
      ]
    },
    {
      "cell_type": "code",
      "source": [
        "from langchain.output_parsers.openai_functions import JsonKeyOutputFunctionsParser\n",
        "\n",
        "functions_chain = (\n",
        "    prompt\n",
        "    | model.bind(function_call= {\"name\": \"joke\"}, functions= functions)\n",
        "    | JsonKeyOutputFunctionsParser(key_name=\"setup\")\n",
        ")"
      ],
      "metadata": {
        "id": "eLfCEKN5zFVA"
      },
      "execution_count": 20,
      "outputs": []
    },
    {
      "cell_type": "code",
      "source": [
        "functions_chain.invoke({\"subject\": \"bears\"})"
      ],
      "metadata": {
        "colab": {
          "base_uri": "https://localhost:8080/",
          "height": 36
        },
        "id": "x_jdQSAAzbOo",
        "outputId": "ebe2387d-e8bd-406d-9d53-c3f9e39e7f9d"
      },
      "execution_count": 21,
      "outputs": [
        {
          "output_type": "execute_result",
          "data": {
            "text/plain": [
              "\"Why don't bears wear shoes?\""
            ],
            "application/vnd.google.colaboratory.intrinsic+json": {
              "type": "string"
            }
          },
          "metadata": {},
          "execution_count": 21
        }
      ]
    },
    {
      "cell_type": "markdown",
      "source": [
        "## LECL Case: Retrieval Augmented Generation (RAG)"
      ],
      "metadata": {
        "id": "0aouOhIK9-2L"
      }
    },
    {
      "cell_type": "code",
      "source": [
        "from langchain.vectorstores import Chroma\n",
        "from langchain.embeddings import OpenAIEmbeddings\n",
        "from langchain.schema.runnable import RunnablePassthrough"
      ],
      "metadata": {
        "id": "GRugZ8Aa_aWY"
      },
      "execution_count": 64,
      "outputs": []
    },
    {
      "cell_type": "code",
      "source": [
        "# Create the retriever\n",
        "fake_docs = [\"James bond works for MI6\",\"Bond is a spy\",\n",
        "             \"James Bond has a licence to kill\", \"James Bond likes cats\"]\n",
        "vectorstore = Chroma.from_texts(fake_docs, embedding=OpenAIEmbeddings())\n",
        "retriever = vectorstore.as_retriever()\n"
      ],
      "metadata": {
        "id": "xCTfodQoNAfy"
      },
      "execution_count": 65,
      "outputs": []
    },
    {
      "cell_type": "code",
      "source": [
        "template = \"\"\"Answer the question based only on the following context:\n",
        "{context}\n",
        "\n",
        "Question: {question}\n",
        "\"\"\"\n",
        "prompt = ChatPromptTemplate.from_template(template)"
      ],
      "metadata": {
        "id": "zYE7T7npNEwu"
      },
      "execution_count": 66,
      "outputs": []
    },
    {
      "cell_type": "code",
      "source": [
        "chain = (\n",
        "    {\"context\": retriever, \"question\": RunnablePassthrough()}\n",
        "    | prompt\n",
        "    | model\n",
        "    | StrOutputParser()\n",
        ")"
      ],
      "metadata": {
        "id": "UER4z9TmNE4r"
      },
      "execution_count": 67,
      "outputs": []
    },
    {
      "cell_type": "code",
      "source": [
        "chain.invoke(\"Who is James Bond?\")"
      ],
      "metadata": {
        "colab": {
          "base_uri": "https://localhost:8080/",
          "height": 36
        },
        "id": "Lgdva60wOylW",
        "outputId": "1a91d3bc-c569-467a-fd60-f43e2646acf0"
      },
      "execution_count": 68,
      "outputs": [
        {
          "output_type": "execute_result",
          "data": {
            "text/plain": [
              "'James Bond is a person who works for MI6.'"
            ],
            "application/vnd.google.colaboratory.intrinsic+json": {
              "type": "string"
            }
          },
          "metadata": {},
          "execution_count": 68
        }
      ]
    },
    {
      "cell_type": "code",
      "source": [
        "chain.invoke(\"What does James Bond like to do?\")"
      ],
      "metadata": {
        "colab": {
          "base_uri": "https://localhost:8080/",
          "height": 36
        },
        "id": "h8rCZiKwbnYD",
        "outputId": "3d454fae-5e16-4e07-a3f0-f3421a99b1c4"
      },
      "execution_count": 69,
      "outputs": [
        {
          "output_type": "execute_result",
          "data": {
            "text/plain": [
              "'Based on the given context, it is not possible to determine what James Bond likes to do.'"
            ],
            "application/vnd.google.colaboratory.intrinsic+json": {
              "type": "string"
            }
          },
          "metadata": {},
          "execution_count": 69
        }
      ]
    },
    {
      "cell_type": "code",
      "source": [
        "template = \"\"\"Answer the question based only on the following context:\n",
        "{context}\n",
        "\n",
        "Question: {question}\n",
        "\n",
        "Answer in the following language: {language}\n",
        "\"\"\"\n",
        "prompt = ChatPromptTemplate.from_template(template)\n",
        "\n",
        "chain = {\n",
        "    \"context\": itemgetter(\"question\") | retriever,\n",
        "    \"question\": itemgetter(\"question\"),\n",
        "    \"language\": itemgetter(\"language\")\n",
        "} | prompt | model | StrOutputParser()"
      ],
      "metadata": {
        "id": "COxxdA0POyoX"
      },
      "execution_count": 70,
      "outputs": []
    },
    {
      "cell_type": "code",
      "source": [
        "chain.invoke({\"question\": \"where does James work?\", \"language\": \"english\"})"
      ],
      "metadata": {
        "colab": {
          "base_uri": "https://localhost:8080/",
          "height": 36
        },
        "id": "XH-elG-BOyrp",
        "outputId": "c00ec956-1ac3-408d-df2a-19aee4d19c75"
      },
      "execution_count": 71,
      "outputs": [
        {
          "output_type": "execute_result",
          "data": {
            "text/plain": [
              "'James works for MI6.'"
            ],
            "application/vnd.google.colaboratory.intrinsic+json": {
              "type": "string"
            }
          },
          "metadata": {},
          "execution_count": 71
        }
      ]
    },
    {
      "cell_type": "code",
      "source": [
        "chain.invoke({\"question\": \"where does James work?\", \"language\": \"russain\"})"
      ],
      "metadata": {
        "colab": {
          "base_uri": "https://localhost:8080/",
          "height": 36
        },
        "id": "dm-9KovTcO5g",
        "outputId": "41a00b31-8b7b-47ab-e2b5-0046f8480a04"
      },
      "execution_count": 73,
      "outputs": [
        {
          "output_type": "execute_result",
          "data": {
            "text/plain": [
              "'Джеймс работает в МИ6.'"
            ],
            "application/vnd.google.colaboratory.intrinsic+json": {
              "type": "string"
            }
          },
          "metadata": {},
          "execution_count": 73
        }
      ]
    },
    {
      "cell_type": "code",
      "source": [],
      "metadata": {
        "id": "gNnNQAwN_LVF"
      },
      "execution_count": null,
      "outputs": []
    }
  ]
}